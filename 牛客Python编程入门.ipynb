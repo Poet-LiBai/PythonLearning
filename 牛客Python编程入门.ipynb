{
 "cells": [
  {
   "cell_type": "code",
   "execution_count": 2,
   "metadata": {},
   "outputs": [
    {
     "name": "stdout",
     "output_type": "stream",
     "text": [
      "['F:\\\\AIdocument\\\\PythonLearning', 'C:\\\\Anaconda3\\\\envs\\\\tensorflow\\\\python37.zip', 'C:\\\\Anaconda3\\\\envs\\\\tensorflow\\\\DLLs', 'C:\\\\Anaconda3\\\\envs\\\\tensorflow\\\\lib', 'C:\\\\Anaconda3\\\\envs\\\\tensorflow', '', 'C:\\\\Anaconda3\\\\envs\\\\tensorflow\\\\lib\\\\site-packages', 'C:\\\\Anaconda3\\\\envs\\\\tensorflow\\\\lib\\\\site-packages\\\\win32', 'C:\\\\Anaconda3\\\\envs\\\\tensorflow\\\\lib\\\\site-packages\\\\win32\\\\lib', 'C:\\\\Anaconda3\\\\envs\\\\tensorflow\\\\lib\\\\site-packages\\\\Pythonwin', 'C:\\\\Anaconda3\\\\envs\\\\tensorflow\\\\lib\\\\site-packages\\\\IPython\\\\extensions', 'C:\\\\Users\\\\MrWu\\\\.ipython']\n"
     ]
    }
   ],
   "source": [
    "import sys\n",
    "\n",
    "print(sys.path)"
   ]
  },
  {
   "cell_type": "code",
   "execution_count": 3,
   "metadata": {},
   "outputs": [
    {
     "name": "stdout",
     "output_type": "stream",
     "text": [
      "1 1 2 3 5 8 13 21 34 55 89 144 233 377 \n"
     ]
    }
   ],
   "source": [
    "def fib(n):\n",
    "    a,b = 0,1\n",
    "    while b < n:\n",
    "        print(b,end=' ')\n",
    "        a,b = b,a+b\n",
    "    print()\n",
    "\n",
    "fib(500)"
   ]
  }
 ],
 "metadata": {
  "kernelspec": {
   "display_name": "Python 3",
   "language": "python",
   "name": "python3"
  },
  "language_info": {
   "codemirror_mode": {
    "name": "ipython",
    "version": 3
   },
   "file_extension": ".py",
   "mimetype": "text/x-python",
   "name": "python",
   "nbconvert_exporter": "python",
   "pygments_lexer": "ipython3",
   "version": "3.7.7"
  }
 },
 "nbformat": 4,
 "nbformat_minor": 4
}
