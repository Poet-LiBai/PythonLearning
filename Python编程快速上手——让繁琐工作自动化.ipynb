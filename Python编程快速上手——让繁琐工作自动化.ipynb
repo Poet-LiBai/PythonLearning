{
 "cells": [
  {
   "cell_type": "markdown",
   "metadata": {},
   "source": [
    "### 第8、9章 读写、组织文件\n"
   ]
  },
  {
   "cell_type": "code",
   "execution_count": null,
   "metadata": {},
   "outputs": [],
   "source": [
    "baconfile = open('bacon.txt','w')\n",
    "baconfile.write('Hello world!\\n')"
   ]
  },
  {
   "cell_type": "code",
   "execution_count": 2,
   "metadata": {},
   "outputs": [],
   "source": [
    "baconfile.close()"
   ]
  },
  {
   "cell_type": "code",
   "execution_count": 3,
   "metadata": {},
   "outputs": [],
   "source": [
    "baconfile = open('bacon.txt','a')"
   ]
  },
  {
   "cell_type": "code",
   "execution_count": 4,
   "metadata": {},
   "outputs": [
    {
     "data": {
      "text/plain": [
       "25"
      ]
     },
     "execution_count": 4,
     "metadata": {},
     "output_type": "execute_result"
    }
   ],
   "source": [
    "baconfile.write('Bacon is not a vegetable.')"
   ]
  },
  {
   "cell_type": "code",
   "execution_count": 5,
   "metadata": {},
   "outputs": [],
   "source": [
    "baconfile.close()"
   ]
  },
  {
   "cell_type": "code",
   "execution_count": 6,
   "metadata": {},
   "outputs": [],
   "source": [
    "baconfile = open('bacon.txt')"
   ]
  },
  {
   "cell_type": "code",
   "execution_count": 7,
   "metadata": {},
   "outputs": [],
   "source": [
    "content = baconfile.read()"
   ]
  },
  {
   "cell_type": "code",
   "execution_count": 8,
   "metadata": {},
   "outputs": [],
   "source": [
    "baconfile.close()"
   ]
  },
  {
   "cell_type": "code",
   "execution_count": 9,
   "metadata": {},
   "outputs": [
    {
     "name": "stdout",
     "output_type": "stream",
     "text": [
      "Hello world!\n",
      "Bacon is not a vegetable.\n"
     ]
    }
   ],
   "source": [
    "print(content)"
   ]
  },
  {
   "cell_type": "code",
   "execution_count": 10,
   "metadata": {},
   "outputs": [
    {
     "name": "stdout",
     "output_type": "stream",
     "text": [
      "bilibili12\n"
     ]
    }
   ],
   "source": [
    "f1 = open('f1.txt','w')\n",
    "f1.write('bilibili12')\n",
    "f1 = open('f1.txt')\n",
    "print(f1.read())"
   ]
  },
  {
   "cell_type": "code",
   "execution_count": 11,
   "metadata": {},
   "outputs": [],
   "source": [
    "import shelve\n",
    "shelfFile = shelve.open('mydata')\n",
    "cats = ['Zophie','Pooka','Simon']\n",
    "shelfFile['cat'] = cats\n",
    "shelfFile.close()"
   ]
  },
  {
   "cell_type": "code",
   "execution_count": 12,
   "metadata": {},
   "outputs": [
    {
     "data": {
      "text/plain": [
       "shelve.DbfilenameShelf"
      ]
     },
     "execution_count": 12,
     "metadata": {},
     "output_type": "execute_result"
    }
   ],
   "source": [
    "shelfFile = shelve.open('mydata')\n",
    "type(shelfFile)"
   ]
  },
  {
   "cell_type": "code",
   "execution_count": 13,
   "metadata": {},
   "outputs": [
    {
     "data": {
      "text/plain": [
       "['Zophie', 'Pooka', 'Simon']"
      ]
     },
     "execution_count": 13,
     "metadata": {},
     "output_type": "execute_result"
    }
   ],
   "source": [
    "shelfFile['cat']"
   ]
  },
  {
   "cell_type": "code",
   "execution_count": 14,
   "metadata": {},
   "outputs": [],
   "source": [
    "shelfFile.close()"
   ]
  },
  {
   "cell_type": "code",
   "execution_count": 15,
   "metadata": {},
   "outputs": [
    {
     "data": {
      "text/plain": [
       "\"[{'desc': 'chubby', 'name': 'Zophie'}, {'desc': 'fluffy', 'name': 'Pooka'}]\""
      ]
     },
     "execution_count": 15,
     "metadata": {},
     "output_type": "execute_result"
    }
   ],
   "source": [
    "import pprint\n",
    "cats = [{'name':'Zophie','desc':'chubby'},{'name':'Pooka','desc':'fluffy'}]\n",
    "pprint.pformat(cats)"
   ]
  },
  {
   "cell_type": "code",
   "execution_count": 16,
   "metadata": {},
   "outputs": [
    {
     "data": {
      "text/plain": [
       "83"
      ]
     },
     "execution_count": 16,
     "metadata": {},
     "output_type": "execute_result"
    }
   ],
   "source": [
    "fileobj = open('myCats.py','w')\n",
    "fileobj.write('cats = ' + pprint.pformat(cats) + '\\n')"
   ]
  },
  {
   "cell_type": "code",
   "execution_count": 17,
   "metadata": {},
   "outputs": [],
   "source": [
    "fileobj.close()"
   ]
  },
  {
   "cell_type": "code",
   "execution_count": 18,
   "metadata": {},
   "outputs": [
    {
     "data": {
      "text/plain": [
       "[{'desc': 'chubby', 'name': 'Zophie'}, {'desc': 'fluffy', 'name': 'Pooka'}]"
      ]
     },
     "execution_count": 18,
     "metadata": {},
     "output_type": "execute_result"
    }
   ],
   "source": [
    "import myCats\n",
    "myCats.cats"
   ]
  },
  {
   "cell_type": "code",
   "execution_count": 19,
   "metadata": {},
   "outputs": [
    {
     "data": {
      "text/plain": [
       "'Zophie'"
      ]
     },
     "execution_count": 19,
     "metadata": {},
     "output_type": "execute_result"
    }
   ],
   "source": [
    "myCats.cats[0]['name']"
   ]
  },
  {
   "cell_type": "code",
   "execution_count": 1,
   "metadata": {},
   "outputs": [],
   "source": [
    "import random\n",
    "\n",
    "capitals = {'Alabama':'Montgomert','Alaska':'Juneau','Arizona':'Phoenix',\n",
    "            'Arkansas': 'Little Rock', 'California': 'Sacrame ',\n",
    "            'Colorado': 'Denvert','Bconnecticut': 'Hartford', 'Delaware': 'Dover',\n",
    "            'Florida':'Tallahassee','Georgia': 'Atlanta', 'Hawaii': 'Honolulu',\n",
    "            'Idaho': 'Boise', 'Illinois':'Springfield', 'Indiana': 'Indianapolis',\n",
    "            'Iowa': 'Des Moines', 'Kansas':'Topeka', 'Kentucky': 'Frankfort',\n",
    "            'Louisiana': 'Baton Rouge', 'Maine':'Augusta', 'Maryland': 'Annapolis',\n",
    "            'Massachusetts': 'Boston', 'Michigan':'Lansing', 'Minnesota': 'Saint Paul',\n",
    "            'Mississippi': 'Jackson', 'Missouri': 'Jefferson city', 'Montana': 'Helena',\n",
    "            'Nebraska': 'Lincoln', 'Nevada':'Carson city', 'New Hampshire': 'Concord',\n",
    "            'New Jersey': 'Trenton', 'NewMexico': 'Santa Fe', 'New York': 'Albany',\n",
    "            'North Carolina': 'Raleigh', 'North Dakota': 'Bismarck', 'Ohio': 'Columbus',\n",
    "            'Oklahoma': 'Oklahoma city','Oregon': 'Salem', 'Pennsylvania': 'Harrisburg',\n",
    "            'Rhode Island': 'Providence','South Carolina': 'Columbia', 'South Dakota': 'Pierre',\n",
    "            'Tennessee': 'Nashville','Texas': 'Austin', 'Utah': 'Salt Lake City', 'Vermont' :'Montpelier',\n",
    "            'Virginia': 'Richmond', 'Washington': 'Olympia', 'WestVirginia': 'Charleston', \n",
    "            'wisconsin': 'Madison', 'Wyoming': 'Cheyenne'}\n",
    "\n",
    "for quizNum in range(35):\n",
    "    \n",
    "    quizFile = open('capitalsquiz%s.txt'%(quizNum + 1),'w')\n",
    "    answerKeyFile = open('capitalsquiz_answers%s.txt'%(quizNum + 1),'w')\n",
    "    \n",
    "    quizFile.write('Name:\\n\\nDate:\\n\\nPeriod:\\n\\n')\n",
    "    quizFile.write((' '*20) + 'State Capitals Quiz (Form %s)'%(quizNum + 1))\n",
    "    quizFile.write('\\n\\n')\n",
    "    \n",
    "    #print(capitals.keys())\n",
    "    #print(list(capitals.keys()))\n",
    "    \n",
    "    states = list(capitals.keys())\n",
    "    random.shuffle(states)\n",
    "    \n",
    "    for questionNum in range(50):\n",
    "        \n",
    "        correctAnswer = capitals[states[questionNum]]\n",
    "        wrongAnswers = list(capitals.values())\n",
    "        \n",
    "        del wrongAnswers[wrongAnswers.index(correctAnswer)]\n",
    "        wrongAnswers = random.sample(wrongAnswers,3)\n",
    "        \n",
    "        answerOpitions = wrongAnswers + [correctAnswer]\n",
    "        random.shuffle(answerOpitions)\n",
    "        \n",
    "        quizFile.write('%s.What is the capital of %s?\\n'%(questionNum + 1,states[questionNum]))\n",
    "        for i in range(4):\n",
    "            quizFile.write(' %s. %s\\n' % ('ABCD'[i],answerOpitions[i]))\n",
    "        quizFile.write('\\n')\n",
    "        \n",
    "        answerKeyFile.write('%s.%s\\n'%(questionNum + 1,'ABCD'[answerOpitions.index(correctAnswer)]))\n",
    "    quizFile.close()\n",
    "    answerKeyFile.close()"
   ]
  },
  {
   "cell_type": "code",
   "execution_count": 1,
   "metadata": {},
   "outputs": [],
   "source": [
    "# Usage: py.exe mcb.pyw save <keyword> - Saves clipboard to keyword.\n",
    "#        py.exe mcb.pyw <keyword> - Loads keyword to clipboard.\n",
    "#        py.exe mcb.pyw list - Loads all keywords to clipboard.\n",
    "import shelve,pyperclip,sys\n",
    "\n",
    "mcbShelf = shelve.open('mcb')\n",
    "\n",
    "#Todo: Save clipboard content\n",
    "if len(sys.argv) == 3 and sys.argv[1].lower() == 'save':\n",
    "    mcbShelf[sys.argv[2]] = pyperclip.paste()\n",
    "    \n",
    "elif len(sys.argv) == 2:    \n",
    "#Todo: List keywords and load content.\n",
    "    if sys.argv[1].lower() == 'list':\n",
    "        pyperclip.copy(str(list(mcbShelf.keys())))\n",
    "    elif sys.argv[1] in mcbShelf:\n",
    "        pyperclip.copy(mcbShelf[sys.argv[1]])\n",
    "        \n",
    "mcbShelf.close()\n"
   ]
  },
  {
   "cell_type": "code",
   "execution_count": 1,
   "metadata": {},
   "outputs": [
    {
     "name": "stdout",
     "output_type": "stream",
     "text": [
      "C:\\\n"
     ]
    }
   ],
   "source": [
    "import shutil,os \n",
    "os.chdir('C:\\\\')\n",
    "print(os.getcwd())\n"
   ]
  },
  {
   "cell_type": "code",
   "execution_count": 2,
   "metadata": {},
   "outputs": [],
   "source": [
    "import os\n",
    "for filename in os.listdir():\n",
    "    if filename.endswith('.rxt'):\n",
    "        os.unlink(filename)"
   ]
  },
  {
   "cell_type": "code",
   "execution_count": 1,
   "metadata": {},
   "outputs": [
    {
     "data": {
      "text/plain": [
       "['.accelerate',\n",
       " 'Adobe_2020_MasterCol_win_v10.4#1_20200122',\n",
       " 'Adobe_2020_MasterCol_win_v10.4#1_20200122.part01.rar',\n",
       " 'Adobe_2020_MasterCol_win_v10.4#1_20200122.part02.rar',\n",
       " 'Adobe_2020_MasterCol_win_v10.4#1_20200122.part03.rar',\n",
       " 'Adobe_2020_MasterCol_win_v10.4#1_20200122.part04.rar',\n",
       " 'Adobe_2020_MasterCol_win_v10.4#1_20200122.part05.rar',\n",
       " 'Adobe_2020_MasterCol_win_v10.4#1_20200122.part06.rar',\n",
       " 'Adobe_2020_MasterCol_win_v10.4#1_20200122.part07.rar',\n",
       " 'Adobe_2020_MasterCol_win_v10.4#1_20200122.part08.rar',\n",
       " 'Adobe_2020_MasterCol_win_v10.4#1_20200122.rar.sha',\n",
       " 'PDF',\n",
       " 'ReadME.txt',\n",
       " 'Repack by weibo@vposy .txt',\n",
       " 'Self-Driving Car Ⅱ.zip',\n",
       " 'Self-Driving Car Ⅲ.rar',\n",
       " '树莓派书籍资料',\n",
       " '树莓派学习资料',\n",
       " '车床主传动系统设计1']"
      ]
     },
     "execution_count": 1,
     "metadata": {},
     "output_type": "execute_result"
    }
   ],
   "source": [
    "import zipfile,os\n",
    "os.chdir('F:\\\\BaiduNetdiskDownload')\n",
    "os.getcwd()\n",
    "#exampleZip = zipfile.ZipFile('carnd-term2【www.zxit8.com】.zip')\n",
    "\n",
    "#exampleZip.namelist()\n",
    "#spamInfo = exampleZip.getinfo('bacon2.txt')\n",
    "#spamInfo.file_size\n",
    "#spamInfo.compress_size\n",
    "#'Compressed file is %sx smaller!'%(round(spamInfo.file_size / spamInfo.compress_size,2))    \n",
    "#exampleZip.extractall()\n",
    "#exampleZip.close()\n",
    "os.listdir()"
   ]
  },
  {
   "cell_type": "code",
   "execution_count": 2,
   "metadata": {},
   "outputs": [
    {
     "name": "stdout",
     "output_type": "stream",
     "text": [
      "False\n",
      "False\n",
      "False\n",
      "False\n",
      "False\n",
      "False\n",
      "False\n",
      "False\n",
      "False\n",
      "False\n",
      "False\n",
      "False\n",
      "False\n",
      "False\n",
      "False\n",
      "False\n",
      "False\n",
      "False\n",
      "False\n",
      "False\n",
      "False\n",
      "False\n",
      "False\n",
      "False\n",
      "False\n",
      "False\n",
      "False\n",
      "False\n",
      "False\n"
     ]
    }
   ],
   "source": [
    "import os,shutil\n",
    "\n",
    "os.chdir('F:\\\\AI自动驾驶\\\\Self-Driving Car Ⅲ')\n",
    "old_listdir = os.listdir()\n",
    "#print(os.getcwd())\n",
    "for dir in old_listdir:\n",
    "    print(dir.startswith(r'[www.zxbc8.com]'))\n",
    "    if dir.startswith(r'[www.zxbc8.com]'):\n",
    "        new_dir = dir.lstrip(r'[www.zxbc8.com] ') \n",
    "        new_dir = r'F:\\\\AI自动驾驶\\\\Self-Driving Car Ⅲ\\\\'+new_dir\n",
    "        old_dir = r'F:\\\\AI自动驾驶\\\\Self-Driving Car Ⅲ\\\\'+dir\n",
    "        #shutil.move(old_dir,new_dir)\n",
    "        print(old_dir)\n",
    "#print(old_listdir)"
   ]
  },
  {
   "cell_type": "code",
   "execution_count": 5,
   "metadata": {},
   "outputs": [],
   "source": [
    "#P166 修改文件名的日期风格\n",
    "import re,shutil,os\n",
    "\n",
    "DateRegex = re.compile(r\"\"\"^(.*?)            #日期前面的文字\n",
    "                            ((0|1)?\\d)-      #月份01~12\n",
    "                            ((0|1|2|3)?\\d)-  #天数\n",
    "                            ((19|20)\\d\\d)    #年份\n",
    "                            (.*?)$           #日期后面的文字\n",
    "                        \"\"\",re.VERBOSE)\n",
    "\n",
    "for amerFilename in os.listdir('.'):\n",
    "    mo = DateRegex.search(amerFilename)\n",
    "    if mo==None:\n",
    "        continue                            #匹配不成功就跳过后面的部分\n",
    "    beforepart = mo.group(1)\n",
    "    monthpart = mo.group(2)\n",
    "    daypart = mo.group(4)\n",
    "    yearpart = mo.group(6)\n",
    "    afterpart = mo.group(8)\n",
    "    \n",
    "    euroFilename = beforepart + daypart + monthpart + yearpart + afterpart\n",
    "    \n",
    "    absWorkingDir = os.path.abspath('.')\n",
    "    amerFilename = os.path.jion(absWorkingDir,amerFilename)\n",
    "    euroFilename = os.path.jion(absWorkingDir,euroFilename)\n",
    "    \n",
    "    print('Renaming\"%s\"to\"%s\"...'%(amerFilename,euroFilename))\n",
    "    #shutil.move(amerFilename,euroFilename)"
   ]
  },
  {
   "cell_type": "code",
   "execution_count": null,
   "metadata": {},
   "outputs": [],
   "source": [
    "import zipfile,os\n",
    "\n",
    "def backupToZip(folder):\n",
    "    folder = os.path.abspath(folder)                                              #获取传入的参数文件夹\n",
    "    number = 1                                                                    \n",
    "    while True:\n",
    "        zipFilename = os.path.basename(folder) + '_' + str(number) + '.zip'\n",
    "        if not os.path.exists(zipFilename):\n",
    "            break\n",
    "        number = number + 1\n",
    "    print('Creating %s...'%(zipFilename))\n",
    "    backupZip = zipfile.ZipFile(zipFilename,'w')\n",
    "    \n",
    "    for filename,subfolders,filenames in os.walk(folder):\n",
    "        print('Adding files in %s...'%(foldername))\n",
    "        backupZip.write(foldername)\n",
    "        \n",
    "        for filename in filenames:\n",
    "            newBase = os.path.basename(folder) + '_'\n",
    "            if filename.startswith(newBase) and filename.endswith('.zip'):\n",
    "                continue\n",
    "            backupZip.write(os.path.join(foldername,filename))\n",
    "        backupZip.close()\n",
    "        print('Done.')\n",
    "backupToZip('C:\\\\delicious')"
   ]
  },
  {
   "cell_type": "markdown",
   "metadata": {},
   "source": [
    "| 445 |45 |\n",
    "|-|-|\n",
    "|fdfdds|fdfddddddddd|\n",
    "\n",
    "$\\min $\n",
    "$\\mathscr {abcdefghigklmnopqrstuvwxyz}$\n",
    "$\\mathbb {ABCDEFGHIJKLMNOPQRSTUVWXYZ}$"
   ]
  },
  {
   "cell_type": "markdown",
   "metadata": {},
   "source": [
    "### 第11章 从web爬取信息"
   ]
  },
  {
   "cell_type": "code",
   "execution_count": null,
   "metadata": {},
   "outputs": [],
   "source": [
    "# mapIt.py P190\n",
    "import webbrowser,sys\n",
    "\n",
    "if len(sys.argv) > 1:\n",
    "    #Get address from command line\n",
    "    address = ' '.jion(sys.argv[1:])\n",
    "else:\n",
    "    #Get address from clipboard\n",
    "    address = pyperclip.paste()\n",
    "    \n",
    "webbrowser.open('https://www.map.baidu.com/place/' + address)\n"
   ]
  },
  {
   "cell_type": "code",
   "execution_count": 1,
   "metadata": {},
   "outputs": [],
   "source": [
    "from selenium import webdriver\n",
    "from selenium.common.exceptions import NoSuchElementException\n",
    "from selenium.webdriver.common.keys import Keys\n",
    "import time\n",
    "# egde_path = 'C:\\Program Files (x86)\\Microsoft\\Edge\\Application\\msedgedriver.exe'\n",
    "browser = webdriver.Edge() # Get local session of Chrome\n",
    "browser.get(\"http://www.baidu.com\") # Load page\n",
    "# assert \"Yahoo\" in browser.title\n",
    "elem = browser.find_element_by_id(\"su\") # Find the query box\n",
    "elem.send_keys(\"qq\" + Keys.RETURN)\n",
    "time.sleep(0.2) # Let the page load, will be added to the API\n"
   ]
  },
  {
   "cell_type": "code",
   "execution_count": null,
   "metadata": {},
   "outputs": [],
   "source": []
  }
 ],
 "metadata": {
  "hide_input": false,
  "kernelspec": {
   "display_name": "Python 3",
   "language": "python",
   "name": "python3"
  },
  "language_info": {
   "codemirror_mode": {
    "name": "ipython",
    "version": 3
   },
   "file_extension": ".py",
   "mimetype": "text/x-python",
   "name": "python",
   "nbconvert_exporter": "python",
   "pygments_lexer": "ipython3",
   "version": "3.7.9"
  },
  "nbTranslate": {
   "displayLangs": [
    "*"
   ],
   "hotkey": "alt-t",
   "langInMainMenu": true,
   "sourceLang": "en",
   "targetLang": "fr",
   "useGoogleTranslate": true
  },
  "toc": {
   "base_numbering": 1,
   "nav_menu": {},
   "number_sections": true,
   "sideBar": true,
   "skip_h1_title": false,
   "title_cell": "Table of Contents",
   "title_sidebar": "Contents",
   "toc_cell": false,
   "toc_position": {},
   "toc_section_display": true,
   "toc_window_display": false
  },
  "varInspector": {
   "cols": {
    "lenName": 16,
    "lenType": 16,
    "lenVar": 40
   },
   "kernels_config": {
    "python": {
     "delete_cmd_postfix": "",
     "delete_cmd_prefix": "del ",
     "library": "var_list.py",
     "varRefreshCmd": "print(var_dic_list())"
    },
    "r": {
     "delete_cmd_postfix": ") ",
     "delete_cmd_prefix": "rm(",
     "library": "var_list.r",
     "varRefreshCmd": "cat(var_dic_list()) "
    }
   },
   "types_to_exclude": [
    "module",
    "function",
    "builtin_function_or_method",
    "instance",
    "_Feature"
   ],
   "window_display": false
  }
 },
 "nbformat": 4,
 "nbformat_minor": 2
}
